{
 "cells": [
  {
   "cell_type": "code",
   "execution_count": 3,
   "metadata": {
    "_cell_guid": "b1076dfc-b9ad-4769-8c92-a6c4dae69d19",
    "_uuid": "8f2839f25d086af736a60e9eeb907d3b93b6e0e5",
    "execution": {
     "iopub.execute_input": "2022-12-07T20:46:00.443867Z",
     "iopub.status.busy": "2022-12-07T20:46:00.443456Z",
     "iopub.status.idle": "2022-12-07T20:46:03.157211Z",
     "shell.execute_reply": "2022-12-07T20:46:03.155934Z",
     "shell.execute_reply.started": "2022-12-07T20:46:00.443828Z"
    }
   },
   "outputs": [],
   "source": [
    "import numpy as np\n",
    "from tensorflow.keras.models import Sequential\n",
    "from tensorflow.keras.layers import Conv2D, MaxPooling2D,GlobalAveragePooling2D,Dropout, Flatten, Dense\n",
    "from tensorflow.keras import regularizers\n",
    "from tensorflow.keras.optimizers import SGD\n",
    "from tensorflow.keras.preprocessing.image import ImageDataGenerator\n",
    "import matplotlib.image as mpimg\n",
    "import matplotlib.pyplot as plt\n",
    "from PIL import Image\n",
    "from sklearn.model_selection import train_test_split\n",
    "import cv2\n",
    "import os\n"
   ]
  },
  {
   "cell_type": "code",
   "execution_count": null,
   "metadata": {
    "execution": {
     "iopub.execute_input": "2022-12-07T20:46:03.160723Z",
     "iopub.status.busy": "2022-12-07T20:46:03.160354Z",
     "iopub.status.idle": "2022-12-07T20:46:04.135247Z",
     "shell.execute_reply": "2022-12-07T20:46:04.134202Z",
     "shell.execute_reply.started": "2022-12-07T20:46:03.160688Z"
    },
    "scrolled": true
   },
   "outputs": [],
   "source": [
    "image_path = './face_age/'\n",
    "def imgdis(age, number_of_images):\n",
    "    plt.figure(figsize=(10,10))\n",
    "    age_folder = image_path + age\n",
    "    images = os.listdir(age_folder)[:number_of_images]\n",
    "    for i in range(number_of_images):\n",
    "        file = mpimg.imread(age_folder +'/'+ images[i])\n",
    "        plt.subplot(number_of_images/2,2,i+1)\n",
    "        plt.imshow(file)\n",
    "imgdis(\"024\",6)"
   ]
  },
  {
   "cell_type": "code",
   "execution_count": 3,
   "metadata": {
    "execution": {
     "iopub.execute_input": "2022-12-07T20:46:04.137126Z",
     "iopub.status.busy": "2022-12-07T20:46:04.136586Z",
     "iopub.status.idle": "2022-12-07T20:47:25.789651Z",
     "shell.execute_reply": "2022-12-07T20:47:25.788149Z",
     "shell.execute_reply.started": "2022-12-07T20:46:04.137089Z"
    }
   },
   "outputs": [],
   "source": [
    "X = []\n",
    "Y = []\n",
    "width = 100\n",
    "height = 100 \n",
    "\n",
    "for folder_name,_,filenames in os.walk(image_path):\n",
    "    if folder_name !=\"face_age\" and folder_name != 'Data':\n",
    "        for file in filenames:\n",
    "            file_path = folder_name +\"/\"+ file\n",
    "            image = Image.open(file_path)\n",
    "            image = image.convert('RGB')\n",
    "            image = image.resize((width, height))\n",
    "            X.append(np.array(image))\n",
    "            Y.append(int(folder_name[-3:]))\n",
    "    else:\n",
    "        pass"
   ]
  },
  {
   "cell_type": "code",
   "execution_count": null,
   "metadata": {
    "execution": {
     "iopub.execute_input": "2022-12-07T20:47:25.792069Z",
     "iopub.status.busy": "2022-12-07T20:47:25.791735Z",
     "iopub.status.idle": "2022-12-07T20:47:28.639712Z",
     "shell.execute_reply": "2022-12-07T20:47:28.638656Z",
     "shell.execute_reply.started": "2022-12-07T20:47:25.792037Z"
    },
    "scrolled": true
   },
   "outputs": [],
   "source": [
    "X = np.array(X)\n",
    "X = X.astype('float32')\n",
    "X /= 255.0\n",
    "Y = np.array(Y)\n"
   ]
  },
  {
   "cell_type": "code",
   "execution_count": 6,
   "metadata": {
    "execution": {
     "iopub.execute_input": "2022-12-07T20:48:00.540048Z",
     "iopub.status.busy": "2022-12-07T20:48:00.539611Z",
     "iopub.status.idle": "2022-12-07T20:48:02.007236Z",
     "shell.execute_reply": "2022-12-07T20:48:02.005976Z",
     "shell.execute_reply.started": "2022-12-07T20:48:00.540005Z"
    }
   },
   "outputs": [],
   "source": [
    "test_size = 0.3\n",
    "seed = 42\n",
    "X_train, X_test, Y_train, Y_test = train_test_split(X, \n",
    "                                                    Y,\n",
    "                                                    test_size=test_size, \n",
    "                                                    random_state=seed,\n",
    "                                                    shuffle=True,\n",
    "                                                    stratify=Y)\n",
    "\n",
    "X_test, X_val, Y_test, Y_val = train_test_split(X_test, Y_test, test_size=0.5)"
   ]
  },
  {
   "cell_type": "code",
   "execution_count": null,
   "metadata": {
    "execution": {
     "iopub.execute_input": "2022-12-07T20:48:06.693740Z",
     "iopub.status.busy": "2022-12-07T20:48:06.693274Z",
     "iopub.status.idle": "2022-12-07T20:48:06.891439Z",
     "shell.execute_reply": "2022-12-07T20:48:06.890016Z",
     "shell.execute_reply.started": "2022-12-07T20:48:06.693691Z"
    }
   },
   "outputs": [],
   "source": [
    "plt.imshow(X_train[100])"
   ]
  },
  {
   "cell_type": "code",
   "execution_count": 11,
   "metadata": {
    "execution": {
     "iopub.execute_input": "2022-12-07T20:48:24.276110Z",
     "iopub.status.busy": "2022-12-07T20:48:24.275649Z",
     "iopub.status.idle": "2022-12-07T20:48:24.282380Z",
     "shell.execute_reply": "2022-12-07T20:48:24.281111Z",
     "shell.execute_reply.started": "2022-12-07T20:48:24.276067Z"
    }
   },
   "outputs": [],
   "source": [
    "train_datagen = ImageDataGenerator(\n",
    "    shear_range = 0.2, \n",
    "    zoom_range = 0.2,vertical_flip = True,\n",
    "    horizontal_flip = True) \n",
    "\n",
    "test_datagen = ImageDataGenerator(\n",
    ")"
   ]
  }
 ],
 "metadata": {
  "kernelspec": {
   "display_name": "Python 3 (ipykernel)",
   "language": "python",
   "name": "python3"
  },
  "language_info": {
   "codemirror_mode": {
    "name": "ipython",
    "version": 3
   },
   "file_extension": ".py",
   "mimetype": "text/x-python",
   "name": "python",
   "nbconvert_exporter": "python",
   "pygments_lexer": "ipython3",
   "version": "3.7.11"
  }
 },
 "nbformat": 4,
 "nbformat_minor": 4
}
